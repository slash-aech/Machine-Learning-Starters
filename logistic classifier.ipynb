{
 "cells": [
  {
   "cell_type": "code",
   "execution_count": 1,
   "metadata": {},
   "outputs": [],
   "source": [
    "from sklearn.model_selection import train_test_split\n",
    "from sklearn.feature_extraction.text import TfidfVectorizer\n",
    "vectorizer = TfidfVectorizer();\n",
    "from sklearn.linear_model import LogisticRegression\n",
    "from sklearn.metrics import accuracy_score, classification_report, confusion_matrix\n",
    "import pandas as pd\n",
    "pd.options.mode.chained_assignment = None\n",
    "import string\n",
    "import re\n",
    "import seaborn as sns\n",
    "import matplotlib.pyplot as plt"
   ]
  },
  {
   "cell_type": "code",
   "execution_count": 2,
   "metadata": {},
   "outputs": [],
   "source": [
    "\n",
    "# Example dataset: list of text documents and their corresponding labels\n",
    "raw_data = pd.read_csv('data/IMDB Dataset.csv')\n",
    "df = raw_data.iloc[:10000, :]\n",
    "\n",
    "def remove_tags(raw_text):\n",
    "    cleaned_text = re.sub(re.compile('<.*?>'),\"\",raw_text)\n",
    "    return cleaned_text\n",
    "df['review'] = df['review'].apply(remove_tags)\n",
    "df['review'] = df['review'].apply(lambda x:x.lower())\n",
    "exclude = string.punctuation\n",
    "def remove_punctuation(text):\n",
    "    for c in exclude:\n",
    "        text = text.replace(c,'')\n",
    "    return text\n",
    "df['review'] = df['review'].apply(remove_punctuation)\n",
    "def sentiment_to_numeric(sentiment):\n",
    "    return 1 if sentiment == 'positive' else 0  \n",
    "labels = df['sentiment']\n",
    "labels = labels.apply(sentiment_to_numeric)\n",
    "values = vectorizer.fit_transform(df['review'])\n",
    "\n",
    "# Split data into training and test sets\n",
    "value_train, value_test, label_train, label_test = train_test_split(values, labels, test_size=0.2, random_state=42)\n"
   ]
  },
  {
   "cell_type": "code",
   "execution_count": 3,
   "metadata": {},
   "outputs": [
    {
     "name": "stdout",
     "output_type": "stream",
     "text": [
      "Accuracy: 0.87\n",
      "Classification Report:\n",
      "              precision    recall  f1-score   support\n",
      "\n",
      "           0       0.89      0.84      0.86       996\n",
      "           1       0.85      0.90      0.87      1004\n",
      "\n",
      "    accuracy                           0.87      2000\n",
      "   macro avg       0.87      0.87      0.87      2000\n",
      "weighted avg       0.87      0.87      0.87      2000\n",
      "\n"
     ]
    },
    {
     "data": {
      "image/png": "[encoded data removed]",
      "text/plain": [
       "<Figure size 300x200 with 2 Axes>"
      ]
     },
     "metadata": {},
     "output_type": "display_data"
    }
   ],
   "source": [
    "# Train logistic regression model\n",
    "model = LogisticRegression(random_state=42)\n",
    "model.fit(value_train, label_train)\n",
    "\n",
    "# Make predictions\n",
    "label_pred = model.predict(value_test)\n",
    "\n",
    "# Evaluate the model\n",
    "accuracy = accuracy_score(label_test, label_pred)\n",
    "print(f\"Accuracy: {accuracy:.2f}\")\n",
    "print(\"Classification Report:\")\n",
    "print(classification_report(label_test, label_pred))\n",
    "matrix = (confusion_matrix(label_test, label_pred))\n",
    "new_matrix = pd.DataFrame(matrix, index = ['True 0', 'True 1',], columns= ['Predicted 0', 'Predicted 1'])\n",
    "plt.figure(figsize=(3, 2))\n",
    "sns.heatmap(new_matrix, annot=True, fmt=\"d\", cmap=\"RdYlGn\")\n",
    "plt.show()\n"
   ]
  },
  {
   "cell_type": "code",
   "execution_count": 4,
   "metadata": {},
   "outputs": [
    {
     "name": "stdout",
     "output_type": "stream",
     "text": [
      "[1]\n"
     ]
    }
   ],
   "source": [
    "new_review = \"I absolutely love this movie, was very at all\"\n",
    "review = vectorizer.transform([new_review]).toarray()\n",
    "new_pred = model.predict(review)\n",
    "print(new_pred)"
   ]
  }
 ],
 "metadata": {
  "kernelspec": {
   "display_name": "Python 3",
   "language": "python",
   "name": "python3"
  },
  "language_info": {
   "codemirror_mode": {
    "name": "ipython",
    "version": 3
   },
   "file_extension": ".py",
   "mimetype": "text/x-python",
   "name": "python",
   "nbconvert_exporter": "python",
   "pygments_lexer": "ipython3",
   "version": "3.12.4"
  }
 },
 "nbformat": 4,
 "nbformat_minor": 2
}
