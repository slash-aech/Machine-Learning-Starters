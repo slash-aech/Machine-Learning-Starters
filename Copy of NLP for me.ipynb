{
 "cells": [
  {
   "cell_type": "code",
   "execution_count": 3,
   "metadata": {
    "id": "E6o5FWJ8HS2E"
   },
   "outputs": [],
   "source": [
    "import nltk\n",
    "import numpy as np\n",
    "import random\n",
    "import string\n"
   ]
  },
  {
   "cell_type": "code",
   "execution_count": 4,
   "metadata": {
    "id": "B4KfdwvvJjmF"
   },
   "outputs": [],
   "source": [
    "f = open('data/AI feed.txt', 'r', errors = 'ignore')\n",
    "raw_doc = f.read();"
   ]
  },
  {
   "cell_type": "code",
   "execution_count": 5,
   "metadata": {
    "colab": {
     "base_uri": "https://localhost:8080/"
    },
    "id": "6kSXe1m7z5p3",
    "outputId": "6a69a574-dda4-4130-9cd4-16c5feaf7287"
   },
   "outputs": [
    {
     "name": "stderr",
     "output_type": "stream",
     "text": [
      "[nltk_data] Downloading package punkt to\n",
      "[nltk_data]     C:\\Users\\Harshit\\AppData\\Roaming\\nltk_data...\n",
      "[nltk_data]   Package punkt is already up-to-date!\n",
      "[nltk_data] Downloading package wordnet to\n",
      "[nltk_data]     C:\\Users\\Harshit\\AppData\\Roaming\\nltk_data...\n",
      "[nltk_data]   Package wordnet is already up-to-date!\n",
      "[nltk_data] Downloading package omw-1.4 to\n",
      "[nltk_data]     C:\\Users\\Harshit\\AppData\\Roaming\\nltk_data...\n",
      "[nltk_data]   Package omw-1.4 is already up-to-date!\n"
     ]
    },
    {
     "data": {
      "text/plain": [
       "True"
      ]
     },
     "execution_count": 5,
     "metadata": {},
     "output_type": "execute_result"
    }
   ],
   "source": [
    "raw_doc = raw_doc.lower()\n",
    "nltk.download('punkt')#the tokenizer\n",
    "nltk.download('wordnet')#dictionary\n",
    "nltk.download('omw-1.4')"
   ]
  },
  {
   "cell_type": "code",
   "execution_count": 6,
   "metadata": {
    "id": "cc8H48770hCn"
   },
   "outputs": [],
   "source": [
    "sentence_token = nltk.sent_tokenize(raw_doc)\n",
    "word_token = nltk.word_tokenize(raw_doc)"
   ]
  },
  {
   "cell_type": "markdown",
   "metadata": {
    "id": "aM_W2crx1PlO"
   },
   "source": [
    "Text proceessing"
   ]
  },
  {
   "cell_type": "code",
   "execution_count": 7,
   "metadata": {
    "id": "2A5Ti0Es1AjE"
   },
   "outputs": [],
   "source": [
    "lemmer = nltk.stem.WordNetLemmatizer()\n",
    "def LemTokens(tokens):\n",
    "  return [lemmer.lemmatize(token) for token in tokens]\n",
    "remove_punct_dict = dict((ord(punct), None) for punct in string.punctuation)\n",
    "def LemNormalize(text):\n",
    "  return LemTokens(nltk.word_tokenize(text.lower().translate(remove_punct_dict)))"
   ]
  },
  {
   "cell_type": "code",
   "execution_count": 8,
   "metadata": {
    "id": "QQ2Jkai51qxT"
   },
   "outputs": [],
   "source": [
    "greet_input = (\"hello\", \"hi\", \"greetings\", \"sup\", \"what's up\",\"hey\")\n",
    "greet_response = [\"hi\", \"hey\", \"*nods*\", \"hi there\", \"hello\", \"I am glad! You are talking to me\"]\n",
    "def greeting(sentence):\n",
    "  for word in sentence.split():\n",
    "    if word.lower() in greet_input:\n",
    "      return random.choice(greet_response)"
   ]
  },
  {
   "cell_type": "code",
   "execution_count": 9,
   "metadata": {
    "id": "Ge1zA0jU13oM"
   },
   "outputs": [],
   "source": [
    "from sklearn.feature_extraction.text import TfidfVectorizer\n",
    "from sklearn.metrics.pairwise import cosine_similarity"
   ]
  },
  {
   "cell_type": "code",
   "execution_count": 10,
   "metadata": {
    "id": "XyLl49VY1_1C"
   },
   "outputs": [],
   "source": [
    "def response(user_response):\n",
    "  robo1_response = ''\n",
    "  TfidfVec = TfidfVectorizer(tokenizer=LemNormalize, stop_words='english')\n",
    "  tfidf = TfidfVec.fit_transform(sentence_token)\n",
    "  vals = cosine_similarity(tfidf[-1], tfidf)\n",
    "  idx = vals.argsort()[0][-2]\n",
    "  flat = vals.flatten()\n",
    "  flat.sort()\n",
    "  req_tfidf = flat[-2]\n",
    "  if(req_tfidf == 0):\n",
    "    robo1_response = robo1_response + \"I am sorry! I don't understand you\"\n",
    "    return robo1_response\n",
    "  else :\n",
    "    robo1_response = robo1_response + sentence_token[idx]\n",
    "    return robo1_response\n"
   ]
  },
  {
   "cell_type": "code",
   "execution_count": 11,
   "metadata": {
    "colab": {
     "base_uri": "https://localhost:8080/"
    },
    "id": "y7CCELbx6LIw",
    "outputId": "065c2a30-d13c-47de-9c25-85c85236d01b"
   },
   "outputs": [
    {
     "name": "stdout",
     "output_type": "stream",
     "text": [
      "BOT: My name is Bot. Let's have a conversation! Also, if you want to exit any time, just type Bye!\n",
      "BOT: hey\n",
      "BOT: "
     ]
    },
    {
     "name": "stderr",
     "output_type": "stream",
     "text": [
      "c:\\Users\\Harshit\\AppData\\Local\\Programs\\Python\\Python312\\Lib\\site-packages\\sklearn\\feature_extraction\\text.py:521: UserWarning: The parameter 'token_pattern' will not be used since 'tokenizer' is not None'\n",
      "  warnings.warn(\n",
      "c:\\Users\\Harshit\\AppData\\Local\\Programs\\Python\\Python312\\Lib\\site-packages\\sklearn\\feature_extraction\\text.py:406: UserWarning: Your stop_words may be inconsistent with your preprocessing. Tokenizing the stop words generated tokens ['ha', 'le', 'u', 'wa'] not in stop_words.\n",
      "  warnings.warn(\n"
     ]
    },
    {
     "name": "stdout",
     "output_type": "stream",
     "text": [
      "I am sorry! I don't understand you\n",
      "BOT: I am sorry! I don't understand you\n",
      "BOT: symptoms:\n",
      "\n",
      "depressed mood most of the day, nearly every day.\n",
      "BOT: I am sorry! I don't understand you\n",
      "BOT: I am sorry! I don't understand you\n",
      "BOT: I am sorry! I don't understand you\n",
      "BOT: here, we will explore three common anxiety disorders: generalized anxiety disorder (gad), social anxiety disorder (sad), and specific phobias.\n",
      "BOT: easily fatigued.\n",
      "BOT: I am sorry! I don't understand you\n",
      "BOT: I am sorry! I don't understand you\n",
      "BOT: I am sorry! I don't understand you\n",
      "BOT: Bye! take care..\n"
     ]
    }
   ],
   "source": [
    "flag = True\n",
    "print(\"BOT: My name is Bot. Let's have a conversation! Also, if you want to exit any time, just type Bye!\")\n",
    "while(flag == True):\n",
    "  user_response = input()\n",
    "  user_response = user_response.lower()\n",
    "  if(user_response != 'bye'):\n",
    "    if(user_response == 'thanks' or user_response == 'thank you'):\n",
    "      flag = False\n",
    "      print(\"BOT: You are welcome..\")\n",
    "    else :\n",
    "      if(greeting(user_response) != None):\n",
    "        print(\"BOT: \" + greeting(user_response))\n",
    "      else :\n",
    "        sentence_token.append(user_response)\n",
    "        word_token = word_token + nltk.word_tokenize(user_response)\n",
    "        final_words = list(set(word_token))\n",
    "        print(\"BOT: \", end = \"\")\n",
    "        print(response(user_response))\n",
    "        sentence_token.remove(user_response)\n",
    "  else :\n",
    "    flag = False\n",
    "    print(\"BOT: Bye! take care..\")"
   ]
  }
 ],
 "metadata": {
  "colab": {
   "provenance": []
  },
  "kaggle": {
   "accelerator": "none",
   "dataSources": [],
   "isGpuEnabled": false,
   "isInternetEnabled": false,
   "language": "python",
   "sourceType": "notebook"
  },
  "kernelspec": {
   "display_name": "Python 3 (ipykernel)",
   "language": "python",
   "name": "python3"
  },
  "language_info": {
   "codemirror_mode": {
    "name": "ipython",
    "version": 3
   },
   "file_extension": ".py",
   "mimetype": "text/x-python",
   "name": "python",
   "nbconvert_exporter": "python",
   "pygments_lexer": "ipython3",
   "version": "3.12.4"
  }
 },
 "nbformat": 4,
 "nbformat_minor": 4
}
