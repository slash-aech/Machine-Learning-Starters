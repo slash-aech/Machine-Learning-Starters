{
 "cells": [
  {
   "cell_type": "code",
   "execution_count": 1,
   "id": "2a3971d9-e875-4b0b-afb8-65b9c94b01d7",
   "metadata": {},
   "outputs": [],
   "source": [
    "import re\n",
    "import pandas as pd\n",
    "from sklearn.feature_extraction.text import TfidfVectorizer\n",
    "from sklearn.metrics.pairwise import cosine_similarity\n",
    "import nltk\n",
    "\n",
    "# Load the CSV file into a DataFrame\n",
    "data = pd.read_csv('data/mental_feed.csv')\n",
    "import pandas as pd\n",
    "\n",
    "# Load the DataFrame\n",
    "data = pd.read_csv('data/mental_feed.csv')"
   ]
  },
  {
   "cell_type": "code",
   "execution_count": null,
   "id": "e057b43d-c043-49b0-be2e-d59d060e325b",
   "metadata": {},
   "outputs": [],
   "source": [
    "# Define function to tokenize sentences and words\n",
    "def tokenize_sentence(text):\n",
    "    sentence_tokens = nltk.sent_tokenize(text)\n",
    "    return sentence_tokens\n",
    "def tokenize_word(text):\n",
    "    word_tokens = nltk.word_tokenize(text)\n",
    "    return word_tokens\n",
    "\n",
    "# Apply tokenization to each question and answer\n",
    "data['Question_Sentence_Tokens'] = data['question'].apply(tokenize_sentence)\n",
    "data['Question_Word_Tokens'] = data['question'].apply(tokenize_word)\n",
    "data['Answer_Sentence_Tokens'] = data['answer'].apply(tokenize_sentence)\n",
    "data['Answer_Word_Tokens'] = data['answer'].apply(tokenize_word)\n",
    "\n",
    "vectorizer = TfidfVectorizer()\n",
    "X = vectorizer.fit_transform(data['question'])"
   ]
  },
  {
   "cell_type": "code",
   "execution_count": null,
   "id": "205f4bde-8120-47c0-b15f-15e5cc69499e",
   "metadata": {
    "scrolled": true
   },
   "outputs": [],
   "source": [
    "import re\n",
    "\n",
    "def hybrid_chatbot(user_input):\n",
    "    patterns = {\n",
    "        \"greet\": r\"hello|hi|hey\",\n",
    "        \"thanks\": r\"thank you|thanks\"\n",
    "    }\n",
    "    responses = {\n",
    "        \"greet\": \"Hello! How can I help you today?\",\n",
    "        \"thanks\": \"You're welcome!\"\n",
    "    }\n",
    "    \n",
    "    # Check for pattern matches first\n",
    "    for intent, pattern in patterns.items():\n",
    "        if re.search(pattern, user_input, re.IGNORECASE):\n",
    "            return responses[intent]\n",
    "    \n",
    "    # Tokenize user input\n",
    "    user_input_sentence_tokens = tokenize_sentence(user_input) \n",
    "    user_input_word_tokens = tokenize_word(user_input)\n",
    "    \n",
    "    # Convert tokenized input to string for vectorization\n",
    "    user_input_str = ' '.join(user_input_word_tokens)\n",
    "    \n",
    "    # Transform the user input using the vectorizer\n",
    "    user_input_vector = vectorizer.transform([user_input_str])\n",
    "    \n",
    "    # Calculate similarity between user input and all questions\n",
    "    similarities = cosine_similarity(user_input_vector, X).flatten()\n",
    "    \n",
    "    # Find the index of the most similar question\n",
    "    most_similar_index = similarities.argmax()\n",
    "    \n",
    "    # Fetch the answer corresponding to the most similar question\n",
    "    response = data.iloc[most_similar_index]['answer']\n",
    "    return response\n",
    "# print(\"Chatbot: Hello there! Tell me how you feel and I will try to help you with it\")\n",
    "# Testing the chatbot\n",
    "while True:\n",
    "    user_input = input(\"=====>You: \")\n",
    "    if user_input.lower() == r\"bye|goodbye|end|quit|exit|terminate|kill yourself|i hate you|you are dumb\":\n",
    "        print(\"Chatbot: Goodbye, take care.\")\n",
    "        break\n",
    "    response = hybrid_chatbot(user_input)\n",
    "    print(\"Chatbot:\", response)\n"
   ]
  },
  {
   "cell_type": "code",
   "execution_count": null,
   "id": "85a008f2-929f-46e7-ac08-1e7e37530c13",
   "metadata": {},
   "outputs": [],
   "source": []
  }
 ],
 "metadata": {
  "kernelspec": {
   "display_name": "Python 3 (ipykernel)",
   "language": "python",
   "name": "python3"
  },
  "language_info": {
   "codemirror_mode": {
    "name": "ipython",
    "version": 3
   },
   "file_extension": ".py",
   "mimetype": "text/x-python",
   "name": "python",
   "nbconvert_exporter": "python",
   "pygments_lexer": "ipython3",
   "version": "3.12.4"
  }
 },
 "nbformat": 4,
 "nbformat_minor": 5
}
