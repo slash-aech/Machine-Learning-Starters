{
 "cells": [
  {
   "cell_type": "markdown",
   "id": "3831729b-19b1-48b6-b6ee-b519aaa36e97",
   "metadata": {},
   "source": [
    "## Importing the required libraries"
   ]
  },
  {
   "cell_type": "code",
   "execution_count": 9,
   "id": "0b009568-24f7-480e-ad82-04e6ba3f51a8",
   "metadata": {},
   "outputs": [],
   "source": [
    "import re\n",
    "import pandas as pd\n",
    "from sklearn.feature_extraction.text import TfidfVectorizer # type: ignore\n",
    "from sklearn.metrics.pairwise import cosine_similarity\n",
    "import nltk"
   ]
  },
  {
   "cell_type": "markdown",
   "id": "191cbf76-86b2-4ae2-b67f-78a9d6ab875f",
   "metadata": {},
   "source": [
    "## Reading the data and preprocessing it"
   ]
  },
  {
   "cell_type": "code",
   "execution_count": 10,
   "id": "7db5c3e3-e4c3-450d-99d5-d623f5689e4d",
   "metadata": {},
   "outputs": [],
   "source": [
    "data = pd.read_csv('data/mental_feed.csv')\n",
    "data = pd.read_csv('data/mental_feed.csv')\n",
    "\n",
    "# Function to tokenize sentences and words\n",
    "def tokenize_sentence(text):\n",
    "    sentence_tokens = nltk.sent_tokenize(text)\n",
    "    return sentence_tokens\n",
    "def tokenize_word(text):\n",
    "    word_tokens = nltk.word_tokenize(text)\n",
    "    return word_tokens\n",
    "\n",
    "# Apply tokenization to each question and answer\n",
    "data['Question_Sentence_Tokens'] = data['question'].apply(tokenize_sentence)\n",
    "data['Question_Word_Tokens'] = data['question'].apply(tokenize_word)\n",
    "data['Answer_Sentence_Tokens'] = data['answer'].apply(tokenize_sentence)\n",
    "data['Answer_Word_Tokens'] = data['answer'].apply(tokenize_word)\n",
    "\n",
    "vectorizer = TfidfVectorizer()\n",
    "X = vectorizer.fit_transform(data['question'])"
   ]
  },
  {
   "cell_type": "markdown",
   "id": "52226f98-9ceb-4041-9ab3-b2b235b6e98f",
   "metadata": {},
   "source": [
    "## Function which actually generates the reply for chatbot\n",
    "> Checks the intent\n",
    "\n",
    "> Tokenises user input\n",
    "\n",
    "> Vectorises it\n",
    "\n",
    "> Replies according to either intent or the datset provided"
   ]
  },
  {
   "cell_type": "code",
   "execution_count": 11,
   "id": "6017a0f7-7dc7-45bf-b62c-290c0c4e4ba8",
   "metadata": {
    "scrolled": true
   },
   "outputs": [],
   "source": [
    "def hybrid_chatbot(user_input):\n",
    "    patterns = {\n",
    "        \"greet\": r\"hello|hi|hey\",\n",
    "        \"thanks\": r\"thank you|thanks\"\n",
    "    }\n",
    "    responses = {\n",
    "        \"greet\": \"Hello! How can I help you today?\",\n",
    "        \"thanks\": \"You're welcome!\"\n",
    "    }\n",
    "    \n",
    "    # Checking for pattern matches first\n",
    "    for intent, pattern in patterns.items():\n",
    "        if re.search(pattern, user_input, re.IGNORECASE):\n",
    "            return responses[intent]\n",
    "    \n",
    "    # Tokenize user input\n",
    "    user_input_sentence_tokens = tokenize_sentence(user_input) \n",
    "    user_input_word_tokens = tokenize_word(user_input)\n",
    "    user_input_str = ' '.join(user_input_word_tokens)\n",
    "    user_input_vector = vectorizer.transform([user_input_str])\n",
    "    # Using the cosine similarity and using the most similar response to return output\n",
    "    similarities = cosine_similarity(user_input_vector, X).flatten()\n",
    "    response = data.iloc[similarities.argmax()]['answer']\n",
    "    return response"
   ]
  },
  {
   "cell_type": "markdown",
   "id": "55549430-6ef3-43ca-8db0-8d61ce631af6",
   "metadata": {},
   "source": [
    "### Test the chatbot\n",
    "To exit the chat, reply with bye, goodbye, end, quit, exit or terminate"
   ]
  },
  {
   "cell_type": "code",
   "execution_count": 12,
   "id": "21771b15-53c9-46e4-9df2-3934d6b1ac09",
   "metadata": {
    "scrolled": true
   },
   "outputs": [
    {
     "name": "stdout",
     "output_type": "stream",
     "text": [
      "=====>Chatbot: Hello there! Tell me how you feel and I will try to help you with it\n",
      "=====>Chatbot: It sounds like you might be experiencing symptoms of depression. Common signs of depression include persistent sadness, loss of interest in activities, changes in appetite and weight, sleep disturbances, fatigue, difficulty concentrating, and thoughts of death or suicide. It's important to seek help from a mental health professional for an accurate diagnosis and appropriate treatment.\n",
      "=====>Chatbot: It sounds like you might be experiencing symptoms of depression. Common signs of depression include persistent sadness, loss of interest in activities, changes in appetite and weight, sleep disturbances, fatigue, difficulty concentrating, and thoughts of death or suicide. It's important to seek help from a mental health professional for an accurate diagnosis and appropriate treatment.\n",
      "=====>Chatbot: Goodbye, take care.\n"
     ]
    }
   ],
   "source": [
    "print(\"=====>Chatbot: Hello there! Tell me how you feel and I will try to help you with it\")\n",
    "while True:\n",
    "    user_input = input(\"=====>You: \")\n",
    "    if re.search(r\"bye|goodbye|end|quit|exit\", user_input):\n",
    "        print(\"=====>Chatbot: Goodbye, take care.\")\n",
    "        break\n",
    "    response = hybrid_chatbot(user_input)\n",
    "    print(\"=====>Chatbot:\", response)"
   ]
  }
 ],
 "metadata": {
  "kernelspec": {
   "display_name": "Python 3 (ipykernel)",
   "language": "python",
   "name": "python3"
  },
  "language_info": {
   "codemirror_mode": {
    "name": "ipython",
    "version": 3
   },
   "file_extension": ".py",
   "mimetype": "text/x-python",
   "name": "python",
   "nbconvert_exporter": "python",
   "pygments_lexer": "ipython3",
   "version": "3.12.4"
  }
 },
 "nbformat": 4,
 "nbformat_minor": 5
}
