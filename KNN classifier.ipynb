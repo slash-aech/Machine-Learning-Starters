{
 "cells": [
  {
   "cell_type": "markdown",
   "id": "bd83ae57-be66-4cbb-add1-7b799864e206",
   "metadata": {},
   "source": [
    "## Importing required libraries"
   ]
  },
  {
   "cell_type": "code",
   "execution_count": 1,
   "id": "a793851a-8a6d-4f8a-84c7-2fd9dfc12479",
   "metadata": {},
   "outputs": [],
   "source": [
    "import numpy as np\n",
    "import pandas as pd\n",
    "from sklearn.model_selection import train_test_split\n",
    "from sklearn.neighbors import KNeighborsClassifier\n",
    "from sklearn.metrics import accuracy_score, classification_report, confusion_matrix\n",
    "import matplotlib.pyplot as plt\n",
    "import seaborn as sns"
   ]
  },
  {
   "cell_type": "markdown",
   "id": "a1161e0e-b650-4502-b911-5eb151b4c9ef",
   "metadata": {},
   "source": [
    "### Reading the dataset and training the model"
   ]
  },
  {
   "cell_type": "code",
   "execution_count": 2,
   "id": "e042836e-edb8-4b78-94e4-e7f14fb403e4",
   "metadata": {},
   "outputs": [],
   "source": [
    "# Will be using the iris datset for this one\n",
    "data_test = pd.read_csv('data/iris training.csv')\n",
    "\n",
    "values = data_test.iloc[: , :-1].to_numpy()\n",
    "labels = data_test['variety'].to_numpy().ravel()\n",
    "#splitting the data as always\n",
    "value_train, value_test, label_train, label_test = train_test_split(values, labels, test_size = 0.2, random_state =42)\n",
    "\n",
    "\n",
    "knn = KNeighborsClassifier(n_neighbors = 3)#preferably less than 4\n",
    "\n",
    "\n",
    "knn.fit(value_train, label_train)\n",
    "\n",
    "label_pred = knn.predict(value_test)"
   ]
  },
  {
   "cell_type": "markdown",
   "id": "3476eddd-8480-48be-b808-a64027435779",
   "metadata": {},
   "source": [
    "### Reports"
   ]
  },
  {
   "cell_type": "code",
   "execution_count": 3,
   "id": "c0786c50-cfe0-4885-96fc-bd0c337fe4f9",
   "metadata": {},
   "outputs": [
    {
     "name": "stdout",
     "output_type": "stream",
     "text": [
      "Accuracy: 100.0%\n",
      "              precision    recall  f1-score   support\n",
      "\n",
      "           0       1.00      1.00      1.00        10\n",
      "           2       1.00      1.00      1.00         9\n",
      "           3       1.00      1.00      1.00        11\n",
      "\n",
      "    accuracy                           1.00        30\n",
      "   macro avg       1.00      1.00      1.00        30\n",
      "weighted avg       1.00      1.00      1.00        30\n",
      "\n"
     ]
    },
    {
     "data": {
      "image/png": "[encoded data removed]",
      "text/plain": [
       "<Figure size 300x200 with 2 Axes>"
      ]
     },
     "metadata": {},
     "output_type": "display_data"
    }
   ],
   "source": [
    "# The reports and confusion matrix\n",
    "accuracy = accuracy_score(label_test, label_pred)\n",
    "print(f'Accuracy: {accuracy*100}%')\n",
    "print(classification_report(label_test, label_pred))\n",
    "\n",
    "#making a heatmap for confusion matrix, looks better nothing else\n",
    "matrix = (confusion_matrix(label_test, label_pred))\n",
    "new_matrix = pd.DataFrame(matrix, index = ['True 0', 'True 1', 'True 2'], columns= ['Predicted 0', 'Predicted 1', 'Predicted 2'])\n",
    "plt.figure(figsize=(3, 2))\n",
    "sns.heatmap(new_matrix, annot=True, fmt=\"d\", cmap=\"RdYlGn\", linewidths=.5, linecolor='black')\n",
    "plt.title('Confusion Matrix')\n",
    "plt.show()"
   ]
  },
  {
   "cell_type": "markdown",
   "id": "f35d941c-5d05-4a25-b4ed-a7f6d2647749",
   "metadata": {},
   "source": [
    "### Using the model for new unlabelled data"
   ]
  },
  {
   "cell_type": "code",
   "execution_count": 4,
   "id": "a7758ae8-c041-41b8-9ce2-23c53eee0b59",
   "metadata": {},
   "outputs": [
    {
     "name": "stdout",
     "output_type": "stream",
     "text": [
      "Value to be alloted for new data:\n",
      "[0 0 0 0 0 0 0 0 0 0 0 0 0 0 0 0 0 0 0 0 0 0 0 2 0 0 2 2 2 2 2 2 2 2 2 2 2\n",
      " 2 2 2 2 2 2 2 3 2 3 2 3 0 2 2 2 2 2 2 2 3 3 2 2 2 2 3 3 3 3 3 3 3 2 3 2 2\n",
      " 3 3 3 3 3 2 3 3 3 3]\n"
     ]
    }
   ],
   "source": [
    "df = pd.read_csv('data/iris test.csv') #The unlabelled images  which we need to classify stored in CSV\n",
    "new_data = df.values;\n",
    "predictions = knn.predict(new_data)\n",
    "print(\"Value to be alloted for new data:\") \n",
    "print(predictions)# this will give the class the image needs to go in"
   ]
  }
 ],
 "metadata": {
  "kernelspec": {
   "display_name": "Python 3 (ipykernel)",
   "language": "python",
   "name": "python3"
  },
  "language_info": {
   "codemirror_mode": {
    "name": "ipython",
    "version": 3
   },
   "file_extension": ".py",
   "mimetype": "text/x-python",
   "name": "python",
   "nbconvert_exporter": "python",
   "pygments_lexer": "ipython3",
   "version": "3.12.4"
  }
 },
 "nbformat": 4,
 "nbformat_minor": 5
}
