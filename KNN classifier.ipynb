{
 "cells": [
  {
   "cell_type": "code",
   "execution_count": 1,
   "id": "a793851a-8a6d-4f8a-84c7-2fd9dfc12479",
   "metadata": {},
   "outputs": [],
   "source": [
    "import numpy as np\n",
    "import pandas as pd\n",
    "from sklearn.model_selection import train_test_split\n",
    "from sklearn.neighbors import KNeighborsClassifier\n",
    "from sklearn.metrics import accuracy_score, classification_report, confusion_matrix\n",
    "import matplotlib.pyplot as plt\n",
    "import seaborn as sns"
   ]
  },
  {
   "cell_type": "code",
   "execution_count": 11,
   "id": "1cede3f4-e319-4edd-a2c5-80c507704d63",
   "metadata": {},
   "outputs": [
    {
     "name": "stdout",
     "output_type": "stream",
     "text": [
      "Accuracy: 93.33333333333333%\n",
      "              precision    recall  f1-score   support\n",
      "\n",
      "           0       1.00      1.00      1.00         4\n",
      "           2       1.00      0.80      0.89         5\n",
      "           3       0.86      1.00      0.92         6\n",
      "\n",
      "    accuracy                           0.93        15\n",
      "   macro avg       0.95      0.93      0.94        15\n",
      "weighted avg       0.94      0.93      0.93        15\n",
      "\n"
     ]
    },
    {
     "data": {
      "image/png": "[encoded data removed]",
      "text/plain": [
       "<Figure size 300x200 with 2 Axes>"
      ]
     },
     "metadata": {},
     "output_type": "display_data"
    },
    {
     "name": "stdout",
     "output_type": "stream",
     "text": [
      "Value to be alloted for new data:\n",
      "[0 0 0 0 0 0 0 0 0 0 0 0 0 0 0 0 0 0 0 0 0 0 0 2 0 0 2 2 2 2 2 2 2 2 2 2 2\n",
      " 2 2 2 2 2 2 2 3 2 2 2 3 0 2 2 2 2 2 2 2 3 3 3 2 2 2 3 3 3 3 3 3 3 2 3 2 2\n",
      " 3 3 3 3 3 2 3 3 3 3]\n"
     ]
    }
   ],
   "source": [
    "\n",
    "# Will be using the iris datset for this one\n",
    "data_test = pd.read_csv('data/iris training.csv')\n",
    "\n",
    "values = data_test.iloc[: , :-1].to_numpy()\n",
    "labels = data_test.iloc[:, -1:].to_numpy().ravel()\n",
    "#splitting the data as always\n",
    "value_train, value_test, label_train, label_test = train_test_split(values, labels, test_size = 0.1, random_state = 9)\n",
    "\n",
    "\n",
    "knn = KNeighborsClassifier(n_neighbors = 4)#preferably less than 4\n",
    "\n",
    "\n",
    "knn.fit(value_train, label_train)\n",
    "\n",
    "label_pred = knn.predict(value_test)\n",
    "\n",
    "\n",
    "# The reports and confusion matrix\n",
    "accuracy = accuracy_score(label_test, label_pred)\n",
    "print(f'Accuracy: {accuracy*100}%')\n",
    "print(classification_report(label_test, label_pred))\n",
    "\n",
    "#making a heatmap for confusion matrix, looks better nothing else\n",
    "matrix = (confusion_matrix(label_test, label_pred))\n",
    "new_matrix = pd.DataFrame(matrix, index = ['True 0', 'True 1', 'True 2'], columns= ['Predicted 0', 'Predicted 1', 'Predicted 2'])\n",
    "plt.figure(figsize=(3, 2))\n",
    "sns.heatmap(new_matrix, annot=True, fmt=\"d\", cmap=\"YlGnBu\", linewidths=.5, linecolor='black')\n",
    "plt.title('Confusion Matrix')\n",
    "plt.ylabel('Actual Class')\n",
    "plt.xlabel('Predicted Class')\n",
    "plt.show()\n",
    "\n",
    "\n",
    "df = pd.read_csv('data/iris test.csv') #The unlabelled images  which we need to classify stored in CSV\n",
    "new_data = df.values;\n",
    "predictions = knn.predict(new_data)\n",
    "print(\"Value to be alloted for new data:\") \n",
    "print(predictions)# this will give the class the image needs to go in\n",
    "\n"
   ]
  }
 ],
 "metadata": {
  "kernelspec": {
   "display_name": "Python 3 (ipykernel)",
   "language": "python",
   "name": "python3"
  },
  "language_info": {
   "codemirror_mode": {
    "name": "ipython",
    "version": 3
   },
   "file_extension": ".py",
   "mimetype": "text/x-python",
   "name": "python",
   "nbconvert_exporter": "python",
   "pygments_lexer": "ipython3",
   "version": "3.12.4"
  }
 },
 "nbformat": 4,
 "nbformat_minor": 5
}
