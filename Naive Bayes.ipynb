{
 "cells": [
  {
   "cell_type": "markdown",
   "id": "cdd5313d-79b7-44b3-9532-4a4646efdedc",
   "metadata": {},
   "source": [
    "# Importing libraries\n",
    "> Importing the BernoulliNB as it shows better results than other\n",
    "\n",
    "> Also the 'pd.options.mode.chained_assignment = None' was included because when the text was manipulated it's throws a warning which is supposed to be overlooked\n",
    "\n",
    ">the packages re and string are only for text manipulation "
   ]
  },
  {
   "cell_type": "code",
   "execution_count": 1,
   "id": "fa1a1426-14fb-4e75-94cb-1044243d4441",
   "metadata": {},
   "outputs": [],
   "source": [
    "import re \n",
    "import string\n",
    "import pandas as pd\n",
    "pd.options.mode.chained_assignment = None\n",
    "import seaborn as sns\n",
    "import matplotlib.pyplot as plt\n",
    "import numpy as np\n",
    "from sklearn.naive_bayes import MultinomialNB\n",
    "from sklearn.model_selection import train_test_split\n",
    "from sklearn.feature_extraction.text import CountVectorizer\n",
    "from sklearn.metrics import accuracy_score, confusion_matrix, classification_report"
   ]
  },
  {
   "cell_type": "markdown",
   "id": "83c49250-f38f-4cd8-bb8c-9c314fd0b521",
   "metadata": {},
   "source": [
    "# Cleaning the text\n",
    "1. Removing the html tags\n",
    "2. Converting to lower case\n",
    "3. Removing punctuations"
   ]
  },
  {
   "cell_type": "code",
   "execution_count": 2,
   "id": "d363ef89-605c-4617-b922-ab6f676c4280",
   "metadata": {},
   "outputs": [],
   "source": [
    "raw_data = pd.read_csv('data/IMDB Dataset.csv')\n",
    "df = raw_data.iloc[:10000, :]\n",
    "\n",
    "def remove_tags(raw_text):\n",
    "    cleaned_text = re.sub(re.compile('<.*?>'),\"\",raw_text)\n",
    "    return cleaned_text\n",
    "df['review'] = df['review'].apply(remove_tags)\n",
    "df['review'] = df['review'].apply(lambda x:x.lower())\n",
    "exclude = string.punctuation\n",
    "def remove_punctuation(text):\n",
    "    for c in exclude:\n",
    "        text = text.replace(c,'')\n",
    "    return text\n",
    "df['review'] = df['review'].apply(remove_punctuation)"
   ]
  },
  {
   "cell_type": "markdown",
   "id": "19dd7526-7f74-410f-9c3f-8078b026e85b",
   "metadata": {},
   "source": [
    "# Adding shorthand for Bernoulli and converting the strings to machine readable vectors"
   ]
  },
  {
   "cell_type": "code",
   "execution_count": 3,
   "id": "f1a0824d-44fd-48b4-b244-b89ee2e4c784",
   "metadata": {
    "scrolled": true
   },
   "outputs": [
    {
     "ename": "MemoryError",
     "evalue": "Unable to allocate 57.7 GiB for an array with shape (35000, 221438) and data type int64",
     "output_type": "error",
     "traceback": [
      "\u001b[1;31m---------------------------------------------------------------------------\u001b[0m",
      "\u001b[1;31mMemoryError\u001b[0m                               Traceback (most recent call last)",
      "Cell \u001b[1;32mIn[3], line 11\u001b[0m\n\u001b[0;32m      9\u001b[0m \u001b[38;5;66;03m# splitting the data as always\u001b[39;00m\n\u001b[0;32m     10\u001b[0m value_train, value_test, label_train, label_test \u001b[38;5;241m=\u001b[39m train_test_split(values, labels, test_size \u001b[38;5;241m=\u001b[39m \u001b[38;5;241m0.3\u001b[39m, random_state \u001b[38;5;241m=\u001b[39m \u001b[38;5;241m7\u001b[39m)\n\u001b[1;32m---> 11\u001b[0m clf\u001b[38;5;241m.\u001b[39mfit(\u001b[43mvalue_train\u001b[49m\u001b[38;5;241;43m.\u001b[39;49m\u001b[43mtoarray\u001b[49m\u001b[43m(\u001b[49m\u001b[43m)\u001b[49m, label_train)\n",
      "File \u001b[1;32m~\\AppData\\Local\\Programs\\Python\\Python312\\Lib\\site-packages\\scipy\\sparse\\_compressed.py:1106\u001b[0m, in \u001b[0;36m_cs_matrix.toarray\u001b[1;34m(self, order, out)\u001b[0m\n\u001b[0;32m   1104\u001b[0m \u001b[38;5;28;01mif\u001b[39;00m out \u001b[38;5;129;01mis\u001b[39;00m \u001b[38;5;28;01mNone\u001b[39;00m \u001b[38;5;129;01mand\u001b[39;00m order \u001b[38;5;129;01mis\u001b[39;00m \u001b[38;5;28;01mNone\u001b[39;00m:\n\u001b[0;32m   1105\u001b[0m     order \u001b[38;5;241m=\u001b[39m \u001b[38;5;28mself\u001b[39m\u001b[38;5;241m.\u001b[39m_swap(\u001b[38;5;124m'\u001b[39m\u001b[38;5;124mcf\u001b[39m\u001b[38;5;124m'\u001b[39m)[\u001b[38;5;241m0\u001b[39m]\n\u001b[1;32m-> 1106\u001b[0m out \u001b[38;5;241m=\u001b[39m \u001b[38;5;28;43mself\u001b[39;49m\u001b[38;5;241;43m.\u001b[39;49m\u001b[43m_process_toarray_args\u001b[49m\u001b[43m(\u001b[49m\u001b[43morder\u001b[49m\u001b[43m,\u001b[49m\u001b[43m \u001b[49m\u001b[43mout\u001b[49m\u001b[43m)\u001b[49m\n\u001b[0;32m   1107\u001b[0m \u001b[38;5;28;01mif\u001b[39;00m \u001b[38;5;129;01mnot\u001b[39;00m (out\u001b[38;5;241m.\u001b[39mflags\u001b[38;5;241m.\u001b[39mc_contiguous \u001b[38;5;129;01mor\u001b[39;00m out\u001b[38;5;241m.\u001b[39mflags\u001b[38;5;241m.\u001b[39mf_contiguous):\n\u001b[0;32m   1108\u001b[0m     \u001b[38;5;28;01mraise\u001b[39;00m \u001b[38;5;167;01mValueError\u001b[39;00m(\u001b[38;5;124m'\u001b[39m\u001b[38;5;124mOutput array must be C or F contiguous\u001b[39m\u001b[38;5;124m'\u001b[39m)\n",
      "File \u001b[1;32m~\\AppData\\Local\\Programs\\Python\\Python312\\Lib\\site-packages\\scipy\\sparse\\_base.py:1327\u001b[0m, in \u001b[0;36m_spbase._process_toarray_args\u001b[1;34m(self, order, out)\u001b[0m\n\u001b[0;32m   1325\u001b[0m     \u001b[38;5;28;01mreturn\u001b[39;00m out\n\u001b[0;32m   1326\u001b[0m \u001b[38;5;28;01melse\u001b[39;00m:\n\u001b[1;32m-> 1327\u001b[0m     \u001b[38;5;28;01mreturn\u001b[39;00m \u001b[43mnp\u001b[49m\u001b[38;5;241;43m.\u001b[39;49m\u001b[43mzeros\u001b[49m\u001b[43m(\u001b[49m\u001b[38;5;28;43mself\u001b[39;49m\u001b[38;5;241;43m.\u001b[39;49m\u001b[43mshape\u001b[49m\u001b[43m,\u001b[49m\u001b[43m \u001b[49m\u001b[43mdtype\u001b[49m\u001b[38;5;241;43m=\u001b[39;49m\u001b[38;5;28;43mself\u001b[39;49m\u001b[38;5;241;43m.\u001b[39;49m\u001b[43mdtype\u001b[49m\u001b[43m,\u001b[49m\u001b[43m \u001b[49m\u001b[43morder\u001b[49m\u001b[38;5;241;43m=\u001b[39;49m\u001b[43morder\u001b[49m\u001b[43m)\u001b[49m\n",
      "\u001b[1;31mMemoryError\u001b[0m: Unable to allocate 57.7 GiB for an array with shape (35000, 221438) and data type int64"
     ]
    }
   ],
   "source": [
    "clf = MultinomialNB()\n",
    "vectorizer = CountVectorizer(binary=True)#method to convert strings to vector\n",
    "values = vectorizer.fit_transform(df['review'])\n",
    "# Changing the positive/negative to simple 1/0 respectively\n",
    "def sentiment_to_numeric(sentiment):\n",
    "    return 1 if sentiment == 'positive' else 0  \n",
    "labels = df['sentiment']\n",
    "labels = labels.apply(sentiment_to_numeric)\n",
    "# splitting the data as always\n",
    "value_train, value_test, label_train, label_test = train_test_split(values, labels, test_size = 0.3, random_state = 7)\n",
    "clf.fit(value_train.toarray(), label_train)"
   ]
  },
  {
   "cell_type": "markdown",
   "id": "30711a97-a79f-4933-af13-664d53a28ffc",
   "metadata": {},
   "source": [
    "# Reports"
   ]
  },
  {
   "cell_type": "code",
   "execution_count": null,
   "id": "51f82d0a-16a0-4dd7-83aa-0e376b854200",
   "metadata": {},
   "outputs": [],
   "source": [
    "label_pred = clf.predict(value_test.toarray())\n",
    "accuracy = accuracy_score(label_test, label_pred)\n",
    "print(f'Accuracy: {accuracy*100}%')\n",
    "print(classification_report(label_test, label_pred))\n",
    "matrix = (confusion_matrix(label_test, label_pred))\n",
    "new_matrix = pd.DataFrame(matrix, index = ['True 0', 'True 1',], columns= ['Predicted 0', 'Predicted 1'])\n",
    "plt.figure(figsize=(3, 2))\n",
    "sns.heatmap(new_matrix, annot=True, fmt=\"d\", cmap=\"RdYlGn\")\n",
    "plt.show()"
   ]
  },
  {
   "cell_type": "markdown",
   "id": "c9a2b3b3-022d-41b4-86e6-b2afc6a3037b",
   "metadata": {},
   "source": [
    "### This section can be used to add your review and check the sentiment.\n",
    "#### Only the straightforward positive or negative review are accurately shown\n",
    "#### 0 for negative and 1 for positive"
   ]
  },
  {
   "cell_type": "code",
   "execution_count": null,
   "id": "f0619e67-8bd6-4262-9f29-2302d24c33cc",
   "metadata": {},
   "outputs": [],
   "source": [
    "new_review = \"\"\n",
    "review = vectorizer.transform([new_review]).toarray()\n",
    "new_pred = clf.predict(review)\n",
    "print(new_pred)"
   ]
  }
 ],
 "metadata": {
  "kernelspec": {
   "display_name": "Python 3 (ipykernel)",
   "language": "python",
   "name": "python3"
  },
  "language_info": {
   "codemirror_mode": {
    "name": "ipython",
    "version": 3
   },
   "file_extension": ".py",
   "mimetype": "text/x-python",
   "name": "python",
   "nbconvert_exporter": "python",
   "pygments_lexer": "ipython3",
   "version": "3.12.4"
  }
 },
 "nbformat": 4,
 "nbformat_minor": 5
}
