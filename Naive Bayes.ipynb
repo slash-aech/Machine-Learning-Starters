{
 "cells": [
  {
   "cell_type": "markdown",
   "id": "cdd5313d-79b7-44b3-9532-4a4646efdedc",
   "metadata": {},
   "source": [
    "# Importing libraries\n",
    "> Importing the MultinomialNB as it shows better results than other\n",
    "\n",
    "> Also the 'pd.options.mode.chained_assignment = None' was included because when the text was manipulated it's throws a warning which is supposed to be overlooked"
   ]
  },
  {
   "cell_type": "code",
   "execution_count": null,
   "id": "fa1a1426-14fb-4e75-94cb-1044243d4441",
   "metadata": {},
   "outputs": [],
   "source": [
    "import re \n",
    "import string\n",
    "import pandas as pd\n",
    "pd.options.mode.chained_assignment = None\n",
    "import seaborn as sns\n",
    "import matplotlib.pyplot as plt\n",
    "import numpy as np\n",
    "from sklearn.naive_bayes import MultinomialNB\n",
    "from sklearn.model_selection import train_test_split\n",
    "from sklearn.feature_extraction.text import TfidfVectorizer\n",
    "from sklearn.metrics import accuracy_score, confusion_matrix, classification_report"
   ]
  },
  {
   "cell_type": "markdown",
   "id": "83c49250-f38f-4cd8-bb8c-9c314fd0b521",
   "metadata": {},
   "source": [
    "# Cleaning the text\n",
    "1. Removing the html tags\n",
    "2. Converting to lower case\n",
    "3. Removing punctuations"
   ]
  },
  {
   "cell_type": "code",
   "execution_count": null,
   "id": "d363ef89-605c-4617-b922-ab6f676c4280",
   "metadata": {},
   "outputs": [],
   "source": [
    "raw_data = pd.read_csv('data/IMDB Dataset.csv')\n",
    "df = raw_data.iloc[:10000, :]\n",
    "\n",
    "def remove_tags(raw_text):\n",
    "    cleaned_text = re.sub(re.compile('<.*?>'),\"\",raw_text)\n",
    "    return cleaned_text\n",
    "df['review'] = df['review'].apply(remove_tags)\n",
    "df['review'] = df['review'].apply(lambda x:x.lower())\n",
    "exclude = string.punctuation\n",
    "def remove_punctuation(text):\n",
    "    for c in exclude:\n",
    "        text = text.replace(c,'')\n",
    "    return text\n",
    "df['review'] = df['review'].apply(remove_punctuation)"
   ]
  },
  {
   "cell_type": "markdown",
   "id": "19dd7526-7f74-410f-9c3f-8078b026e85b",
   "metadata": {},
   "source": [
    "# Adding shorthand for MultinomialNB and converting the strings to machine readable vectors"
   ]
  },
  {
   "cell_type": "code",
   "execution_count": null,
   "id": "f1a0824d-44fd-48b4-b244-b89ee2e4c784",
   "metadata": {
    "scrolled": true
   },
   "outputs": [],
   "source": [
    "clf = MultinomialNB()\n",
    "vectorizer = TfidfVectorizer(binary=True)#method to convert strings to vector\n",
    "values = vectorizer.fit_transform(df['review'])\n",
    "# Changing the positive/negative to simple 1/0 respectively\n",
    "def sentiment_to_numeric(sentiment):\n",
    "    return 1 if sentiment == 'positive' else 0  \n",
    "labels = df['sentiment']\n",
    "labels = labels.apply(sentiment_to_numeric)\n",
    "# splitting the data as always\n",
    "value_train, value_test, label_train, label_test = train_test_split(values, labels, test_size = 0.2, random_state = 7)\n",
    "clf.fit(value_train.toarray(), label_train)"
   ]
  },
  {
   "cell_type": "markdown",
   "id": "30711a97-a79f-4933-af13-664d53a28ffc",
   "metadata": {},
   "source": [
    "# Reports"
   ]
  },
  {
   "cell_type": "code",
   "execution_count": null,
   "id": "51f82d0a-16a0-4dd7-83aa-0e376b854200",
   "metadata": {},
   "outputs": [],
   "source": [
    "label_pred = clf.predict(value_test.toarray())\n",
    "accuracy = accuracy_score(label_test, label_pred)\n",
    "print(f'Accuracy: {accuracy*100}%')\n",
    "print(classification_report(label_test, label_pred))\n",
    "matrix = (confusion_matrix(label_test, label_pred))\n",
    "new_matrix = pd.DataFrame(matrix, index = ['True 0', 'True 1',], columns= ['Predicted 0', 'Predicted 1'])\n",
    "plt.figure(figsize=(3, 2))\n",
    "sns.heatmap(new_matrix, annot=True, fmt=\"d\", cmap=\"RdYlGn\")\n",
    "plt.show()"
   ]
  },
  {
   "cell_type": "markdown",
   "id": "c9a2b3b3-022d-41b4-86e6-b2afc6a3037b",
   "metadata": {},
   "source": [
    "### This section can be used to add your review and check the sentiment.\n",
    "#### Only the straightforward positive or negative review are accurately shown\n",
    "#### 0 for negative and 1 for positive"
   ]
  },
  {
   "cell_type": "code",
   "execution_count": null,
   "id": "f0619e67-8bd6-4262-9f29-2302d24c33cc",
   "metadata": {},
   "outputs": [],
   "source": [
    "new_review = \"I hate this movie, was not good at all\"\n",
    "review = vectorizer.transform([new_review]).toarray()\n",
    "new_pred = clf.predict(review)\n",
    "print(new_pred)"
   ]
  }
 ],
 "metadata": {
  "kernelspec": {
   "display_name": "Python 3 (ipykernel)",
   "language": "python",
   "name": "python3"
  },
  "language_info": {
   "codemirror_mode": {
    "name": "ipython",
    "version": 3
   },
   "file_extension": ".py",
   "mimetype": "text/x-python",
   "name": "python",
   "nbconvert_exporter": "python",
   "pygments_lexer": "ipython3",
   "version": "3.12.4"
  }
 },
 "nbformat": 4,
 "nbformat_minor": 5
}
